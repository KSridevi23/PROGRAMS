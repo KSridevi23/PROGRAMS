{
 "cells": [
  {
   "cell_type": "markdown",
   "id": "0fdf7a5f",
   "metadata": {},
   "source": [
    "# Smallest Or Largest Number"
   ]
  },
  {
   "cell_type": "code",
   "execution_count": 2,
   "id": "98e88c5d",
   "metadata": {},
   "outputs": [
    {
     "name": "stdout",
     "output_type": "stream",
     "text": [
      "The smallest element is 7\n",
      "The largest number is 89\n"
     ]
    }
   ],
   "source": [
    "array = [34, 12, 78, 56, 89, 23, 7]\n",
    "smallest = min(array)\n",
    "largest = max(array)\n",
    "\n",
    "print(\"The smallest element is\", smallest)\n",
    "print(\"The largest number is\", largest)\n"
   ]
  },
  {
   "cell_type": "code",
   "execution_count": null,
   "id": "56f27450",
   "metadata": {},
   "outputs": [],
   "source": []
  }
 ],
 "metadata": {
  "kernelspec": {
   "display_name": "Python 3 (ipykernel)",
   "language": "python",
   "name": "python3"
  },
  "language_info": {
   "codemirror_mode": {
    "name": "ipython",
    "version": 3
   },
   "file_extension": ".py",
   "mimetype": "text/x-python",
   "name": "python",
   "nbconvert_exporter": "python",
   "pygments_lexer": "ipython3",
   "version": "3.11.4"
  }
 },
 "nbformat": 4,
 "nbformat_minor": 5
}
