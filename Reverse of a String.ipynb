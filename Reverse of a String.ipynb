{
 "cells": [
  {
   "cell_type": "markdown",
   "id": "cca184cf",
   "metadata": {},
   "source": [
    "# Reverse of a String"
   ]
  },
  {
   "cell_type": "code",
   "execution_count": 1,
   "id": "7aee0a9b",
   "metadata": {},
   "outputs": [
    {
     "name": "stdout",
     "output_type": "stream",
     "text": [
      "The reversed string: RETUPMOC\n"
     ]
    }
   ],
   "source": [
    "String= \"COMPUTER\"\n",
    "reverse = String[::-1]\n",
    "print(\"The reversed string:\", reverse)"
   ]
  },
  {
   "cell_type": "code",
   "execution_count": 2,
   "id": "a02ee9dc",
   "metadata": {},
   "outputs": [
    {
     "name": "stdout",
     "output_type": "stream",
     "text": [
      "Enter a word to reversehello\n",
      "The reversed string: olleh\n"
     ]
    }
   ],
   "source": [
    "String = input(\"Enter a word to reverse\")\n",
    "reverse = String[::-1]\n",
    "print(\"The reversed string:\", reverse)"
   ]
  },
  {
   "cell_type": "code",
   "execution_count": 3,
   "id": "950a7668",
   "metadata": {},
   "outputs": [
    {
     "name": "stdout",
     "output_type": "stream",
     "text": [
      "Enter a word to reverse123456\n",
      "The reversed string: 654321\n"
     ]
    }
   ],
   "source": [
    "String = input(\"Enter a word to reverse\")\n",
    "reverse = String[::-1]\n",
    "print(\"The reversed string:\", reverse)"
   ]
  }
 ],
 "metadata": {
  "kernelspec": {
   "display_name": "Python 3 (ipykernel)",
   "language": "python",
   "name": "python3"
  },
  "language_info": {
   "codemirror_mode": {
    "name": "ipython",
    "version": 3
   },
   "file_extension": ".py",
   "mimetype": "text/x-python",
   "name": "python",
   "nbconvert_exporter": "python",
   "pygments_lexer": "ipython3",
   "version": "3.11.4"
  }
 },
 "nbformat": 4,
 "nbformat_minor": 5
}
