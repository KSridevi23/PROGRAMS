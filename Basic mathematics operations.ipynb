{
 "cells": [
  {
   "cell_type": "markdown",
   "id": "1f1966a0",
   "metadata": {},
   "source": [
    "# Addition of Numbers"
   ]
  },
  {
   "cell_type": "code",
   "execution_count": 4,
   "id": "5879dff1",
   "metadata": {},
   "outputs": [
    {
     "name": "stdout",
     "output_type": "stream",
     "text": [
      "Enter the number 2\n",
      "Enter the number 2\n",
      "The sum is 4\n"
     ]
    }
   ],
   "source": [
    "num1 = int(input(\"Enter the number \"))\n",
    "num2 = int(input(\"Enter the number \"))\n",
    "sum = num1 + num2 \n",
    "print(\"The sum is\",sum)"
   ]
  },
  {
   "cell_type": "markdown",
   "id": "7df350a9",
   "metadata": {},
   "source": [
    "# Subtraction of Numbers"
   ]
  },
  {
   "cell_type": "code",
   "execution_count": 5,
   "id": "2e6288fa",
   "metadata": {},
   "outputs": [
    {
     "name": "stdout",
     "output_type": "stream",
     "text": [
      "Enter the number 10\n",
      "Enter the number 6\n",
      "The difference is 4\n"
     ]
    }
   ],
   "source": [
    "num1 = int(input(\"Enter the number \"))\n",
    "num2 = int(input(\"Enter the number \"))\n",
    "subtract = num1 - num2 \n",
    "print(\"The difference is\", subtract)"
   ]
  },
  {
   "cell_type": "markdown",
   "id": "4e1fd574",
   "metadata": {},
   "source": [
    "# Multiplication of Numbers"
   ]
  },
  {
   "cell_type": "code",
   "execution_count": 6,
   "id": "7d66f92c",
   "metadata": {},
   "outputs": [
    {
     "name": "stdout",
     "output_type": "stream",
     "text": [
      "Enter the number 5\n",
      "Enter the number 5\n",
      "The product is 25\n"
     ]
    }
   ],
   "source": [
    "num1 = int(input(\"Enter the number \"))\n",
    "num2 = int(input(\"Enter the number \"))\n",
    "mul = num1 * num2\n",
    "print(\"The product is\", mul)"
   ]
  },
  {
   "cell_type": "markdown",
   "id": "83a3ca33",
   "metadata": {},
   "source": [
    "# Division of Numbers "
   ]
  },
  {
   "cell_type": "code",
   "execution_count": 12,
   "id": "9935d502",
   "metadata": {},
   "outputs": [
    {
     "name": "stdout",
     "output_type": "stream",
     "text": [
      "Enter the number 10\n",
      "Enter the number 2\n",
      "The quotient is 5.0\n"
     ]
    }
   ],
   "source": [
    "num1 = int(input(\"Enter the number \"))\n",
    "num2 = int(input(\"Enter the number \"))\n",
    "if num2 != 0:\n",
    "    divide = num1 / num2\n",
    "    print(\"The quotient is\", divide)\n",
    "else:\n",
    "    print(\"ERROR\")"
   ]
  },
  {
   "cell_type": "code",
   "execution_count": null,
   "id": "b750298b",
   "metadata": {},
   "outputs": [],
   "source": []
  }
 ],
 "metadata": {
  "kernelspec": {
   "display_name": "Python 3 (ipykernel)",
   "language": "python",
   "name": "python3"
  },
  "language_info": {
   "codemirror_mode": {
    "name": "ipython",
    "version": 3
   },
   "file_extension": ".py",
   "mimetype": "text/x-python",
   "name": "python",
   "nbconvert_exporter": "python",
   "pygments_lexer": "ipython3",
   "version": "3.11.4"
  }
 },
 "nbformat": 4,
 "nbformat_minor": 5
}
